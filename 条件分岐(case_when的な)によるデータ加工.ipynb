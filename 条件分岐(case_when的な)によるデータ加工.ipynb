{
  "nbformat": 4,
  "nbformat_minor": 0,
  "metadata": {
    "colab": {
      "name": "条件分岐(case when的な)によるデータ加工.ipynb",
      "provenance": [],
      "collapsed_sections": []
    },
    "kernelspec": {
      "name": "python3",
      "display_name": "Python 3"
    },
    "language_info": {
      "name": "python"
    }
  },
  "cells": [
    {
      "cell_type": "markdown",
      "metadata": {
        "id": "g1PL03LNaKDF"
      },
      "source": [
        "引用\n",
        "- https://qiita.com/Hyperion13fleet/items/98c31744e66ac1fc1e9f"
      ]
    },
    {
      "cell_type": "markdown",
      "metadata": {
        "id": "pf2gbY6_aSYL"
      },
      "source": [
        "# 準備"
      ]
    },
    {
      "cell_type": "code",
      "metadata": {
        "id": "EyHgZsBub12G"
      },
      "source": [
        "import pandas as pd\n",
        "import numpy as np"
      ],
      "execution_count": null,
      "outputs": []
    },
    {
      "cell_type": "code",
      "metadata": {
        "id": "aqO2lXlTcdhx"
      },
      "source": [
        "# =================================================\n",
        "#           ライブラリ\n",
        "# =================================================\n",
        "import pandas_datareader.data as web\n",
        "\n",
        "# =================================================\n",
        "#           メイン\n",
        "# =================================================\n",
        "\n",
        "# 株価情報取得\n",
        "df = web.DataReader(\"TSLA\",\"yahoo\",\"2020/1/1\",\"2021/3/5\") # データソースはYahoo, Tsla株の情報を取得\n",
        "\n",
        "# PandasデータフレームをCSVで出力\n",
        "# stock_price.to_csv(\"stock_price.csv\")"
      ],
      "execution_count": null,
      "outputs": []
    },
    {
      "cell_type": "code",
      "metadata": {
        "colab": {
          "base_uri": "https://localhost:8080/",
          "height": 236
        },
        "id": "B3O01RaFdVzG",
        "outputId": "9119afc3-f27e-45c4-9cf5-e0281a559eec"
      },
      "source": [
        "df.head()"
      ],
      "execution_count": null,
      "outputs": [
        {
          "output_type": "execute_result",
          "data": {
            "text/html": [
              "<div>\n",
              "<style scoped>\n",
              "    .dataframe tbody tr th:only-of-type {\n",
              "        vertical-align: middle;\n",
              "    }\n",
              "\n",
              "    .dataframe tbody tr th {\n",
              "        vertical-align: top;\n",
              "    }\n",
              "\n",
              "    .dataframe thead th {\n",
              "        text-align: right;\n",
              "    }\n",
              "</style>\n",
              "<table border=\"1\" class=\"dataframe\">\n",
              "  <thead>\n",
              "    <tr style=\"text-align: right;\">\n",
              "      <th></th>\n",
              "      <th>High</th>\n",
              "      <th>Low</th>\n",
              "      <th>Open</th>\n",
              "      <th>Close</th>\n",
              "      <th>Volume</th>\n",
              "      <th>Adj Close</th>\n",
              "    </tr>\n",
              "    <tr>\n",
              "      <th>Date</th>\n",
              "      <th></th>\n",
              "      <th></th>\n",
              "      <th></th>\n",
              "      <th></th>\n",
              "      <th></th>\n",
              "      <th></th>\n",
              "    </tr>\n",
              "  </thead>\n",
              "  <tbody>\n",
              "    <tr>\n",
              "      <th>2020-01-02</th>\n",
              "      <td>86.139999</td>\n",
              "      <td>84.342003</td>\n",
              "      <td>84.900002</td>\n",
              "      <td>86.052002</td>\n",
              "      <td>47660500.0</td>\n",
              "      <td>86.052002</td>\n",
              "    </tr>\n",
              "    <tr>\n",
              "      <th>2020-01-03</th>\n",
              "      <td>90.800003</td>\n",
              "      <td>87.384003</td>\n",
              "      <td>88.099998</td>\n",
              "      <td>88.601997</td>\n",
              "      <td>88892500.0</td>\n",
              "      <td>88.601997</td>\n",
              "    </tr>\n",
              "    <tr>\n",
              "      <th>2020-01-06</th>\n",
              "      <td>90.311996</td>\n",
              "      <td>88.000000</td>\n",
              "      <td>88.094002</td>\n",
              "      <td>90.307999</td>\n",
              "      <td>50665000.0</td>\n",
              "      <td>90.307999</td>\n",
              "    </tr>\n",
              "    <tr>\n",
              "      <th>2020-01-07</th>\n",
              "      <td>94.325996</td>\n",
              "      <td>90.671997</td>\n",
              "      <td>92.279999</td>\n",
              "      <td>93.811996</td>\n",
              "      <td>89410500.0</td>\n",
              "      <td>93.811996</td>\n",
              "    </tr>\n",
              "    <tr>\n",
              "      <th>2020-01-08</th>\n",
              "      <td>99.697998</td>\n",
              "      <td>93.646004</td>\n",
              "      <td>94.739998</td>\n",
              "      <td>98.428001</td>\n",
              "      <td>155721500.0</td>\n",
              "      <td>98.428001</td>\n",
              "    </tr>\n",
              "  </tbody>\n",
              "</table>\n",
              "</div>"
            ],
            "text/plain": [
              "                 High        Low       Open      Close       Volume  Adj Close\n",
              "Date                                                                          \n",
              "2020-01-02  86.139999  84.342003  84.900002  86.052002   47660500.0  86.052002\n",
              "2020-01-03  90.800003  87.384003  88.099998  88.601997   88892500.0  88.601997\n",
              "2020-01-06  90.311996  88.000000  88.094002  90.307999   50665000.0  90.307999\n",
              "2020-01-07  94.325996  90.671997  92.279999  93.811996   89410500.0  93.811996\n",
              "2020-01-08  99.697998  93.646004  94.739998  98.428001  155721500.0  98.428001"
            ]
          },
          "metadata": {
            "tags": []
          },
          "execution_count": 32
        }
      ]
    },
    {
      "cell_type": "code",
      "metadata": {
        "colab": {
          "base_uri": "https://localhost:8080/"
        },
        "id": "4f_BblkdiAbh",
        "outputId": "4e59445c-ff63-439e-9ae4-b44f37cfff61"
      },
      "source": [
        "df.shape"
      ],
      "execution_count": null,
      "outputs": [
        {
          "output_type": "execute_result",
          "data": {
            "text/plain": [
              "(296, 6)"
            ]
          },
          "metadata": {
            "tags": []
          },
          "execution_count": 33
        }
      ]
    },
    {
      "cell_type": "code",
      "metadata": {
        "colab": {
          "base_uri": "https://localhost:8080/",
          "height": 286
        },
        "id": "mXpDkhBBfHOI",
        "outputId": "6a063d54-8e18-469f-8882-42a9ae61d11b"
      },
      "source": [
        "df['Close'].hist()\n",
        "print(df['Close'].mean())"
      ],
      "execution_count": null,
      "outputs": [
        {
          "output_type": "stream",
          "text": [
            "363.1236412976239\n"
          ],
          "name": "stdout"
        },
        {
          "output_type": "display_data",
          "data": {
            "image/png": "[encoded data removed]",
            "text/plain": [
              "<Figure size 432x288 with 1 Axes>"
            ]
          },
          "metadata": {
            "tags": [],
            "needs_background": "light"
          }
        }
      ]
    },
    {
      "cell_type": "markdown",
      "metadata": {
        "id": "z7farmuUaaGp"
      },
      "source": [
        "# 1. 1変数が条件分岐の対象＆バイナリ化したい場合"
      ]
    },
    {
      "cell_type": "code",
      "metadata": {
        "id": "SCjOTfTkhKwJ"
      },
      "source": [
        ""
      ],
      "execution_count": null,
      "outputs": []
    },
    {
      "cell_type": "code",
      "metadata": {
        "colab": {
          "base_uri": "https://localhost:8080/",
          "height": 236
        },
        "id": "lUd4q7U8adSJ",
        "outputId": "93249de2-98ec-4d12-a961-537de1a03320"
      },
      "source": [
        "df['flg_open_800'] = df['Open'].apply(lambda x : 1 if x >= 800 else 0)\n",
        "df.loc[df.Close >= 750].head()"
      ],
      "execution_count": null,
      "outputs": [
        {
          "output_type": "execute_result",
          "data": {
            "text/html": [
              "<div>\n",
              "<style scoped>\n",
              "    .dataframe tbody tr th:only-of-type {\n",
              "        vertical-align: middle;\n",
              "    }\n",
              "\n",
              "    .dataframe tbody tr th {\n",
              "        vertical-align: top;\n",
              "    }\n",
              "\n",
              "    .dataframe thead th {\n",
              "        text-align: right;\n",
              "    }\n",
              "</style>\n",
              "<table border=\"1\" class=\"dataframe\">\n",
              "  <thead>\n",
              "    <tr style=\"text-align: right;\">\n",
              "      <th></th>\n",
              "      <th>High</th>\n",
              "      <th>Low</th>\n",
              "      <th>Open</th>\n",
              "      <th>Close</th>\n",
              "      <th>Volume</th>\n",
              "      <th>Adj Close</th>\n",
              "      <th>flg_open_800</th>\n",
              "    </tr>\n",
              "    <tr>\n",
              "      <th>Date</th>\n",
              "      <th></th>\n",
              "      <th></th>\n",
              "      <th></th>\n",
              "      <th></th>\n",
              "      <th></th>\n",
              "      <th></th>\n",
              "      <th></th>\n",
              "    </tr>\n",
              "  </thead>\n",
              "  <tbody>\n",
              "    <tr>\n",
              "      <th>2021-01-06</th>\n",
              "      <td>774.000000</td>\n",
              "      <td>749.099976</td>\n",
              "      <td>758.489990</td>\n",
              "      <td>755.979980</td>\n",
              "      <td>44700000.0</td>\n",
              "      <td>755.979980</td>\n",
              "      <td>0</td>\n",
              "    </tr>\n",
              "    <tr>\n",
              "      <th>2021-01-07</th>\n",
              "      <td>816.989990</td>\n",
              "      <td>775.200012</td>\n",
              "      <td>777.630005</td>\n",
              "      <td>816.039978</td>\n",
              "      <td>51498900.0</td>\n",
              "      <td>816.039978</td>\n",
              "      <td>0</td>\n",
              "    </tr>\n",
              "    <tr>\n",
              "      <th>2021-01-08</th>\n",
              "      <td>884.489990</td>\n",
              "      <td>838.390015</td>\n",
              "      <td>856.000000</td>\n",
              "      <td>880.020020</td>\n",
              "      <td>75055500.0</td>\n",
              "      <td>880.020020</td>\n",
              "      <td>1</td>\n",
              "    </tr>\n",
              "    <tr>\n",
              "      <th>2021-01-11</th>\n",
              "      <td>854.429993</td>\n",
              "      <td>803.619995</td>\n",
              "      <td>849.400024</td>\n",
              "      <td>811.190002</td>\n",
              "      <td>59301600.0</td>\n",
              "      <td>811.190002</td>\n",
              "      <td>1</td>\n",
              "    </tr>\n",
              "    <tr>\n",
              "      <th>2021-01-12</th>\n",
              "      <td>868.000000</td>\n",
              "      <td>827.340027</td>\n",
              "      <td>831.000000</td>\n",
              "      <td>849.440002</td>\n",
              "      <td>46270700.0</td>\n",
              "      <td>849.440002</td>\n",
              "      <td>1</td>\n",
              "    </tr>\n",
              "  </tbody>\n",
              "</table>\n",
              "</div>"
            ],
            "text/plain": [
              "                  High         Low  ...   Adj Close  flg_open_800\n",
              "Date                                ...                          \n",
              "2021-01-06  774.000000  749.099976  ...  755.979980             0\n",
              "2021-01-07  816.989990  775.200012  ...  816.039978             0\n",
              "2021-01-08  884.489990  838.390015  ...  880.020020             1\n",
              "2021-01-11  854.429993  803.619995  ...  811.190002             1\n",
              "2021-01-12  868.000000  827.340027  ...  849.440002             1\n",
              "\n",
              "[5 rows x 7 columns]"
            ]
          },
          "metadata": {
            "tags": []
          },
          "execution_count": 35
        }
      ]
    },
    {
      "cell_type": "markdown",
      "metadata": {
        "id": "1eNnAimOaoK_"
      },
      "source": [
        "# 2. 1変数が条件分岐の対象&複数の状態に分岐させたい（カテゴリ化したい）\n",
        "\n",
        "\n",
        "*  openが＄700未満→0 \n",
        "*  openが＄700 から ＄800→1  \n",
        "*  openが＄800 から ＄850→2  \n",
        "*  openが＄850以上→3"
      ]
    },
    {
      "cell_type": "code",
      "metadata": {
        "colab": {
          "base_uri": "https://localhost:8080/"
        },
        "id": "480GdsZmaqE6",
        "outputId": "f31d13cf-d1fe-4ac6-8766-2d8fb53d85a1"
      },
      "source": [
        "# 条件分岐の関数を定義\n",
        "def func_cate(x):\n",
        "    if  x < 700:\n",
        "        return 0\n",
        "    elif x >= 700 and x < 800:\n",
        "        return 1\n",
        "    elif x >= 800 and x < 850:\n",
        "        return 2\n",
        "    else:\n",
        "        return 3\n",
        "\n",
        "df['cate_f'] = df['Open'].apply(func_cate)\n",
        "df.groupby('cate_f')['Volume'].count()"
      ],
      "execution_count": null,
      "outputs": [
        {
          "output_type": "execute_result",
          "data": {
            "text/plain": [
              "cate_f\n",
              "0    258\n",
              "1     12\n",
              "2     14\n",
              "3     12\n",
              "Name: Volume, dtype: int64"
            ]
          },
          "metadata": {
            "tags": []
          },
          "execution_count": 36
        }
      ]
    },
    {
      "cell_type": "markdown",
      "metadata": {
        "id": "0BzqDk-barGZ"
      },
      "source": [
        "# 3. 1変数が条件分岐の対象＆元の値を変換\n",
        "- ＄500未満ならばNULLに置換\n",
        "\n",
        "- ＄500以上＄600未満ならば＄550に置換\n",
        "\n",
        "- ＄600以上ならopenの値そのまま  "
      ]
    },
    {
      "cell_type": "code",
      "metadata": {
        "id": "zSFQecc9axNq"
      },
      "source": [
        "def func_open_2(x):\n",
        "    if  x < 500:\n",
        "        return np.NaN\n",
        "    elif x >= 500 and x < 600:\n",
        "        return 550\n",
        "    else:\n",
        "        return x\n",
        "\n",
        "df['open_2'] = df['Open'].apply(func_open_2)"
      ],
      "execution_count": null,
      "outputs": []
    },
    {
      "cell_type": "code",
      "metadata": {
        "colab": {
          "base_uri": "https://localhost:8080/",
          "height": 236
        },
        "id": "TkFyu_h9l-lR",
        "outputId": "535b74af-3e5c-45f8-b880-c195856643d9"
      },
      "source": [
        "df.head()"
      ],
      "execution_count": null,
      "outputs": [
        {
          "output_type": "execute_result",
          "data": {
            "text/html": [
              "<div>\n",
              "<style scoped>\n",
              "    .dataframe tbody tr th:only-of-type {\n",
              "        vertical-align: middle;\n",
              "    }\n",
              "\n",
              "    .dataframe tbody tr th {\n",
              "        vertical-align: top;\n",
              "    }\n",
              "\n",
              "    .dataframe thead th {\n",
              "        text-align: right;\n",
              "    }\n",
              "</style>\n",
              "<table border=\"1\" class=\"dataframe\">\n",
              "  <thead>\n",
              "    <tr style=\"text-align: right;\">\n",
              "      <th></th>\n",
              "      <th>High</th>\n",
              "      <th>Low</th>\n",
              "      <th>Open</th>\n",
              "      <th>Close</th>\n",
              "      <th>Volume</th>\n",
              "      <th>Adj Close</th>\n",
              "      <th>flg_open_800</th>\n",
              "      <th>cate_f</th>\n",
              "      <th>open_2</th>\n",
              "    </tr>\n",
              "    <tr>\n",
              "      <th>Date</th>\n",
              "      <th></th>\n",
              "      <th></th>\n",
              "      <th></th>\n",
              "      <th></th>\n",
              "      <th></th>\n",
              "      <th></th>\n",
              "      <th></th>\n",
              "      <th></th>\n",
              "      <th></th>\n",
              "    </tr>\n",
              "  </thead>\n",
              "  <tbody>\n",
              "    <tr>\n",
              "      <th>2020-01-02</th>\n",
              "      <td>86.139999</td>\n",
              "      <td>84.342003</td>\n",
              "      <td>84.900002</td>\n",
              "      <td>86.052002</td>\n",
              "      <td>47660500.0</td>\n",
              "      <td>86.052002</td>\n",
              "      <td>0</td>\n",
              "      <td>0</td>\n",
              "      <td>NaN</td>\n",
              "    </tr>\n",
              "    <tr>\n",
              "      <th>2020-01-03</th>\n",
              "      <td>90.800003</td>\n",
              "      <td>87.384003</td>\n",
              "      <td>88.099998</td>\n",
              "      <td>88.601997</td>\n",
              "      <td>88892500.0</td>\n",
              "      <td>88.601997</td>\n",
              "      <td>0</td>\n",
              "      <td>0</td>\n",
              "      <td>NaN</td>\n",
              "    </tr>\n",
              "    <tr>\n",
              "      <th>2020-01-06</th>\n",
              "      <td>90.311996</td>\n",
              "      <td>88.000000</td>\n",
              "      <td>88.094002</td>\n",
              "      <td>90.307999</td>\n",
              "      <td>50665000.0</td>\n",
              "      <td>90.307999</td>\n",
              "      <td>0</td>\n",
              "      <td>0</td>\n",
              "      <td>NaN</td>\n",
              "    </tr>\n",
              "    <tr>\n",
              "      <th>2020-01-07</th>\n",
              "      <td>94.325996</td>\n",
              "      <td>90.671997</td>\n",
              "      <td>92.279999</td>\n",
              "      <td>93.811996</td>\n",
              "      <td>89410500.0</td>\n",
              "      <td>93.811996</td>\n",
              "      <td>0</td>\n",
              "      <td>0</td>\n",
              "      <td>NaN</td>\n",
              "    </tr>\n",
              "    <tr>\n",
              "      <th>2020-01-08</th>\n",
              "      <td>99.697998</td>\n",
              "      <td>93.646004</td>\n",
              "      <td>94.739998</td>\n",
              "      <td>98.428001</td>\n",
              "      <td>155721500.0</td>\n",
              "      <td>98.428001</td>\n",
              "      <td>0</td>\n",
              "      <td>0</td>\n",
              "      <td>NaN</td>\n",
              "    </tr>\n",
              "  </tbody>\n",
              "</table>\n",
              "</div>"
            ],
            "text/plain": [
              "                 High        Low       Open  ...  flg_open_800  cate_f  open_2\n",
              "Date                                         ...                              \n",
              "2020-01-02  86.139999  84.342003  84.900002  ...             0       0     NaN\n",
              "2020-01-03  90.800003  87.384003  88.099998  ...             0       0     NaN\n",
              "2020-01-06  90.311996  88.000000  88.094002  ...             0       0     NaN\n",
              "2020-01-07  94.325996  90.671997  92.279999  ...             0       0     NaN\n",
              "2020-01-08  99.697998  93.646004  94.739998  ...             0       0     NaN\n",
              "\n",
              "[5 rows x 9 columns]"
            ]
          },
          "metadata": {
            "tags": []
          },
          "execution_count": 41
        }
      ]
    },
    {
      "cell_type": "markdown",
      "metadata": {
        "id": "DmvjYAoCazLS"
      },
      "source": [
        "# 4. 複数変数が条件分岐の対象＆カテゴリ化したい\n",
        "\n",
        "\n",
        "*   openがcloseよりも低い（値上がり）→1\n",
        "*   openがcloseよりも高い（値下がり）→2\n",
        "*   openがcloseと同じ→0\n"
      ]
    },
    {
      "cell_type": "code",
      "metadata": {
        "id": "K3tBGCtPa2tz"
      },
      "source": [
        "def func_cate_change(x):\n",
        "    if x.Open < x.Close:\n",
        "        return 1\n",
        "    elif x.Open > x.Close:\n",
        "        return 2\n",
        "    else:\n",
        "        return 0\n",
        "\n",
        "df['cate_change'] = df.apply(lambda x:func_cate_change(x),axis=1)"
      ],
      "execution_count": null,
      "outputs": []
    },
    {
      "cell_type": "code",
      "metadata": {
        "colab": {
          "base_uri": "https://localhost:8080/"
        },
        "id": "Si2PEdV0mlkx",
        "outputId": "fe36c2f1-4e0c-4311-ab03-040f4d09fbc0"
      },
      "source": [
        "df.groupby('cate_change')['Volume'].count()"
      ],
      "execution_count": null,
      "outputs": [
        {
          "output_type": "execute_result",
          "data": {
            "text/plain": [
              "cate_change\n",
              "1    147\n",
              "2    149\n",
              "Name: Volume, dtype: int64"
            ]
          },
          "metadata": {
            "tags": []
          },
          "execution_count": 44
        }
      ]
    },
    {
      "cell_type": "markdown",
      "metadata": {
        "id": "y7unEjAya5L3"
      },
      "source": [
        "# 5. 複数変数が条件分岐の対象＆値を加工する\n",
        "\n",
        "\n",
        "*   highとlowが＄10以上離れているなら、openとcloseの平均を取る\n",
        "*   highとlowが＄10円未満なら、highとlowの平均を取る\n",
        "\n"
      ]
    },
    {
      "cell_type": "code",
      "metadata": {
        "id": "dTTbbNdda68x"
      },
      "source": [
        "def func_avg_10(x):\n",
        "    if x.High - x.Low <= 10:\n",
        "        return (x.High + x.Low) /2\n",
        "    else:\n",
        "        return (x.Open + x.Close) /2\n",
        "\n",
        "df['avg_10'] = df.apply(lambda x:func_avg_10(x),axis=1)"
      ],
      "execution_count": null,
      "outputs": []
    },
    {
      "cell_type": "code",
      "metadata": {
        "colab": {
          "base_uri": "https://localhost:8080/",
          "height": 321
        },
        "id": "bVREUKx2obba",
        "outputId": "d69b6292-3c69-4caa-c4e7-46a55f4216f2"
      },
      "source": [
        "df.head()"
      ],
      "execution_count": null,
      "outputs": [
        {
          "output_type": "execute_result",
          "data": {
            "text/html": [
              "<div>\n",
              "<style scoped>\n",
              "    .dataframe tbody tr th:only-of-type {\n",
              "        vertical-align: middle;\n",
              "    }\n",
              "\n",
              "    .dataframe tbody tr th {\n",
              "        vertical-align: top;\n",
              "    }\n",
              "\n",
              "    .dataframe thead th {\n",
              "        text-align: right;\n",
              "    }\n",
              "</style>\n",
              "<table border=\"1\" class=\"dataframe\">\n",
              "  <thead>\n",
              "    <tr style=\"text-align: right;\">\n",
              "      <th></th>\n",
              "      <th>High</th>\n",
              "      <th>Low</th>\n",
              "      <th>Open</th>\n",
              "      <th>Close</th>\n",
              "      <th>Volume</th>\n",
              "      <th>Adj Close</th>\n",
              "      <th>flg_open_800</th>\n",
              "      <th>cate_f</th>\n",
              "      <th>open_2</th>\n",
              "      <th>cate_change</th>\n",
              "      <th>avg_10</th>\n",
              "    </tr>\n",
              "    <tr>\n",
              "      <th>Date</th>\n",
              "      <th></th>\n",
              "      <th></th>\n",
              "      <th></th>\n",
              "      <th></th>\n",
              "      <th></th>\n",
              "      <th></th>\n",
              "      <th></th>\n",
              "      <th></th>\n",
              "      <th></th>\n",
              "      <th></th>\n",
              "      <th></th>\n",
              "    </tr>\n",
              "  </thead>\n",
              "  <tbody>\n",
              "    <tr>\n",
              "      <th>2020-01-02</th>\n",
              "      <td>86.139999</td>\n",
              "      <td>84.342003</td>\n",
              "      <td>84.900002</td>\n",
              "      <td>86.052002</td>\n",
              "      <td>47660500.0</td>\n",
              "      <td>86.052002</td>\n",
              "      <td>0</td>\n",
              "      <td>0</td>\n",
              "      <td>NaN</td>\n",
              "      <td>1</td>\n",
              "      <td>85.241001</td>\n",
              "    </tr>\n",
              "    <tr>\n",
              "      <th>2020-01-03</th>\n",
              "      <td>90.800003</td>\n",
              "      <td>87.384003</td>\n",
              "      <td>88.099998</td>\n",
              "      <td>88.601997</td>\n",
              "      <td>88892500.0</td>\n",
              "      <td>88.601997</td>\n",
              "      <td>0</td>\n",
              "      <td>0</td>\n",
              "      <td>NaN</td>\n",
              "      <td>1</td>\n",
              "      <td>89.092003</td>\n",
              "    </tr>\n",
              "    <tr>\n",
              "      <th>2020-01-06</th>\n",
              "      <td>90.311996</td>\n",
              "      <td>88.000000</td>\n",
              "      <td>88.094002</td>\n",
              "      <td>90.307999</td>\n",
              "      <td>50665000.0</td>\n",
              "      <td>90.307999</td>\n",
              "      <td>0</td>\n",
              "      <td>0</td>\n",
              "      <td>NaN</td>\n",
              "      <td>1</td>\n",
              "      <td>89.155998</td>\n",
              "    </tr>\n",
              "    <tr>\n",
              "      <th>2020-01-07</th>\n",
              "      <td>94.325996</td>\n",
              "      <td>90.671997</td>\n",
              "      <td>92.279999</td>\n",
              "      <td>93.811996</td>\n",
              "      <td>89410500.0</td>\n",
              "      <td>93.811996</td>\n",
              "      <td>0</td>\n",
              "      <td>0</td>\n",
              "      <td>NaN</td>\n",
              "      <td>1</td>\n",
              "      <td>92.498997</td>\n",
              "    </tr>\n",
              "    <tr>\n",
              "      <th>2020-01-08</th>\n",
              "      <td>99.697998</td>\n",
              "      <td>93.646004</td>\n",
              "      <td>94.739998</td>\n",
              "      <td>98.428001</td>\n",
              "      <td>155721500.0</td>\n",
              "      <td>98.428001</td>\n",
              "      <td>0</td>\n",
              "      <td>0</td>\n",
              "      <td>NaN</td>\n",
              "      <td>1</td>\n",
              "      <td>96.672001</td>\n",
              "    </tr>\n",
              "  </tbody>\n",
              "</table>\n",
              "</div>"
            ],
            "text/plain": [
              "                 High        Low       Open  ...  open_2  cate_change     avg_10\n",
              "Date                                         ...                                \n",
              "2020-01-02  86.139999  84.342003  84.900002  ...     NaN            1  85.241001\n",
              "2020-01-03  90.800003  87.384003  88.099998  ...     NaN            1  89.092003\n",
              "2020-01-06  90.311996  88.000000  88.094002  ...     NaN            1  89.155998\n",
              "2020-01-07  94.325996  90.671997  92.279999  ...     NaN            1  92.498997\n",
              "2020-01-08  99.697998  93.646004  94.739998  ...     NaN            1  96.672001\n",
              "\n",
              "[5 rows x 11 columns]"
            ]
          },
          "metadata": {
            "tags": []
          },
          "execution_count": 49
        }
      ]
    },
    {
      "cell_type": "markdown",
      "metadata": {
        "id": "PWJawAyia9Jy"
      },
      "source": [
        "# 6. 複数変数が条件分岐の対象＆外側から引数を与える\n",
        "\n",
        "*   OpenがCloseに対して＋X円以上ならYを代入\n",
        "*   OpenがCloseに対して＋X円未満ならZを代入\n",
        "\n"
      ]
    },
    {
      "cell_type": "code",
      "metadata": {
        "id": "H9Lfdt5fa_Up"
      },
      "source": [
        "def func_xyz(row,x,y,z):\n",
        "    if row.Open >= x:\n",
        "        return y\n",
        "    else:\n",
        "        return z\n",
        "\n",
        "# x,y,zを事前に定義\n",
        "x = 400\n",
        "y = 0\n",
        "z = 1\n",
        "df['xyz'] = df.apply(lambda row:func_xyz(row,x,y,z),axis=1)"
      ],
      "execution_count": null,
      "outputs": []
    },
    {
      "cell_type": "markdown",
      "metadata": {
        "id": "x1i-AWr-bAEX"
      },
      "source": [
        "# 7. 複数変数が条件分岐の対象＆欠損値置換\n",
        "\n",
        "*   値下がりする日(cate_change:1)のopen_2が欠損値ならば、期間全体の平均値を置換する\n",
        "*   値上がりする日(cate_change:2)のopen_2が欠損値ならば、当日のopenを置換する\n",
        "*   変動がない日(cate_change:0)のopen_2が欠損値ならば、そのままopen_2を採用する\n",
        "*   欠損値でないならそのままopen_2を採用する\n",
        "\n",
        "\n",
        "\n",
        "\n"
      ]
    },
    {
      "cell_type": "code",
      "metadata": {
        "id": "HcDVzX8HbEJj"
      },
      "source": [
        "import math\n",
        "\n",
        "def func_open_3(row,avg_open):\n",
        "    # スカラーでnp.NaNを評価したい場合は、mathで判定するのがいいっぽい\n",
        "    if math.isnan(row.open_2):\n",
        "        if row.cate_change == 1:\n",
        "            return avg_open\n",
        "        elif row.cate_change == 2:\n",
        "            return row.Open\n",
        "        else:\n",
        "            return row.open_2\n",
        "    else:\n",
        "        return row.open_3\n",
        "\n",
        "# 行に対する処理と列に対する処理を同時に行うのは困難なので、まず欠損値処理を行う\n",
        "df['open_3'] = df.open_2.fillna(method='bfill')\n",
        "\n",
        "# 列に対する処理を実施する前に、open_2の行方向の平均値を事前に計算しておく\n",
        "avg_open = df['Open'].mean()\n",
        "\n",
        "# 列方向に対する処理を行う\n",
        "df['open_3'] = df.apply(lambda x: func_open_3(x,avg_open),axis=1)"
      ],
      "execution_count": null,
      "outputs": []
    },
    {
      "cell_type": "code",
      "metadata": {
        "colab": {
          "base_uri": "https://localhost:8080/",
          "height": 341
        },
        "id": "-tH3-8DzqmNN",
        "outputId": "0d6964c0-c908-432f-cbf3-2d98895a8ff8"
      },
      "source": [
        "df.head()"
      ],
      "execution_count": null,
      "outputs": [
        {
          "output_type": "execute_result",
          "data": {
            "text/html": [
              "<div>\n",
              "<style scoped>\n",
              "    .dataframe tbody tr th:only-of-type {\n",
              "        vertical-align: middle;\n",
              "    }\n",
              "\n",
              "    .dataframe tbody tr th {\n",
              "        vertical-align: top;\n",
              "    }\n",
              "\n",
              "    .dataframe thead th {\n",
              "        text-align: right;\n",
              "    }\n",
              "</style>\n",
              "<table border=\"1\" class=\"dataframe\">\n",
              "  <thead>\n",
              "    <tr style=\"text-align: right;\">\n",
              "      <th></th>\n",
              "      <th>High</th>\n",
              "      <th>Low</th>\n",
              "      <th>Open</th>\n",
              "      <th>Close</th>\n",
              "      <th>Volume</th>\n",
              "      <th>Adj Close</th>\n",
              "      <th>flg_open_800</th>\n",
              "      <th>cate_f</th>\n",
              "      <th>open_2</th>\n",
              "      <th>cate_change</th>\n",
              "      <th>avg_10</th>\n",
              "      <th>xyz</th>\n",
              "      <th>open_3</th>\n",
              "    </tr>\n",
              "    <tr>\n",
              "      <th>Date</th>\n",
              "      <th></th>\n",
              "      <th></th>\n",
              "      <th></th>\n",
              "      <th></th>\n",
              "      <th></th>\n",
              "      <th></th>\n",
              "      <th></th>\n",
              "      <th></th>\n",
              "      <th></th>\n",
              "      <th></th>\n",
              "      <th></th>\n",
              "      <th></th>\n",
              "      <th></th>\n",
              "    </tr>\n",
              "  </thead>\n",
              "  <tbody>\n",
              "    <tr>\n",
              "      <th>2020-01-02</th>\n",
              "      <td>86.139999</td>\n",
              "      <td>84.342003</td>\n",
              "      <td>84.900002</td>\n",
              "      <td>86.052002</td>\n",
              "      <td>47660500.0</td>\n",
              "      <td>86.052002</td>\n",
              "      <td>0</td>\n",
              "      <td>0</td>\n",
              "      <td>NaN</td>\n",
              "      <td>1</td>\n",
              "      <td>85.241001</td>\n",
              "      <td>1</td>\n",
              "      <td>362.813927</td>\n",
              "    </tr>\n",
              "    <tr>\n",
              "      <th>2020-01-03</th>\n",
              "      <td>90.800003</td>\n",
              "      <td>87.384003</td>\n",
              "      <td>88.099998</td>\n",
              "      <td>88.601997</td>\n",
              "      <td>88892500.0</td>\n",
              "      <td>88.601997</td>\n",
              "      <td>0</td>\n",
              "      <td>0</td>\n",
              "      <td>NaN</td>\n",
              "      <td>1</td>\n",
              "      <td>89.092003</td>\n",
              "      <td>1</td>\n",
              "      <td>362.813927</td>\n",
              "    </tr>\n",
              "    <tr>\n",
              "      <th>2020-01-06</th>\n",
              "      <td>90.311996</td>\n",
              "      <td>88.000000</td>\n",
              "      <td>88.094002</td>\n",
              "      <td>90.307999</td>\n",
              "      <td>50665000.0</td>\n",
              "      <td>90.307999</td>\n",
              "      <td>0</td>\n",
              "      <td>0</td>\n",
              "      <td>NaN</td>\n",
              "      <td>1</td>\n",
              "      <td>89.155998</td>\n",
              "      <td>1</td>\n",
              "      <td>362.813927</td>\n",
              "    </tr>\n",
              "    <tr>\n",
              "      <th>2020-01-07</th>\n",
              "      <td>94.325996</td>\n",
              "      <td>90.671997</td>\n",
              "      <td>92.279999</td>\n",
              "      <td>93.811996</td>\n",
              "      <td>89410500.0</td>\n",
              "      <td>93.811996</td>\n",
              "      <td>0</td>\n",
              "      <td>0</td>\n",
              "      <td>NaN</td>\n",
              "      <td>1</td>\n",
              "      <td>92.498997</td>\n",
              "      <td>1</td>\n",
              "      <td>362.813927</td>\n",
              "    </tr>\n",
              "    <tr>\n",
              "      <th>2020-01-08</th>\n",
              "      <td>99.697998</td>\n",
              "      <td>93.646004</td>\n",
              "      <td>94.739998</td>\n",
              "      <td>98.428001</td>\n",
              "      <td>155721500.0</td>\n",
              "      <td>98.428001</td>\n",
              "      <td>0</td>\n",
              "      <td>0</td>\n",
              "      <td>NaN</td>\n",
              "      <td>1</td>\n",
              "      <td>96.672001</td>\n",
              "      <td>1</td>\n",
              "      <td>362.813927</td>\n",
              "    </tr>\n",
              "  </tbody>\n",
              "</table>\n",
              "</div>"
            ],
            "text/plain": [
              "                 High        Low       Open  ...     avg_10  xyz      open_3\n",
              "Date                                         ...                            \n",
              "2020-01-02  86.139999  84.342003  84.900002  ...  85.241001    1  362.813927\n",
              "2020-01-03  90.800003  87.384003  88.099998  ...  89.092003    1  362.813927\n",
              "2020-01-06  90.311996  88.000000  88.094002  ...  89.155998    1  362.813927\n",
              "2020-01-07  94.325996  90.671997  92.279999  ...  92.498997    1  362.813927\n",
              "2020-01-08  99.697998  93.646004  94.739998  ...  96.672001    1  362.813927\n",
              "\n",
              "[5 rows x 13 columns]"
            ]
          },
          "metadata": {
            "tags": []
          },
          "execution_count": 57
        }
      ]
    },
    {
      "cell_type": "code",
      "metadata": {
        "id": "cT7V6fglrEqK"
      },
      "source": [
        ""
      ],
      "execution_count": null,
      "outputs": []
    }
  ]
}